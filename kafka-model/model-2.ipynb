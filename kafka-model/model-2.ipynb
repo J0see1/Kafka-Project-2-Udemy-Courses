{
 "cells": [
  {
   "cell_type": "code",
   "execution_count": null,
   "metadata": {},
   "outputs": [],
   "source": [
    "import numpy as np\n",
    "import matplotlib.pyplot as plt\n",
    "\n",
    "from pyspark.sql import SparkSession\n",
    "from pyspark.ml.clustering import KMeans\n",
    "from pyspark.sql.types import StructType, StructField, IntegerType, StringType\n",
    "from pyspark.ml.evaluation import ClusteringEvaluator\n",
    "from pyspark.sql.functions import col\n",
    "from pyspark.ml.feature import VectorAssembler, StandardScaler\n",
    "\n",
    "spark = SparkSession.builder.appName(\"KMeansClustering\").getOrCreate()"
   ]
  },
  {
   "cell_type": "code",
   "execution_count": 2,
   "metadata": {},
   "outputs": [],
   "source": [
    "batch_1_path = '../dataset/batch-dataset/batch_1.csv'\n",
    "batch_2_path = '../dataset/batch-dataset/batch_2.csv'\n",
    "\n",
    "batch_1 = spark.read.csv(batch_1_path, header=True)\n",
    "batch_2 = spark.read.csv(batch_2_path, header=True)\n",
    "\n",
    "data = batch_1.union(batch_2)"
   ]
  },
  {
   "cell_type": "code",
   "execution_count": 3,
   "metadata": {},
   "outputs": [
    {
     "name": "stdout",
     "output_type": "stream",
     "text": [
      "+---------+--------------------+--------------------+-------+-----+---------------+-----------+------------+------------------+------------------+--------------------+----------------+\n",
      "|course_id|        course_title|                 url|is_paid|price|num_subscribers|num_reviews|num_lectures|             level|  content_duration| published_timestamp|         subject|\n",
      "+---------+--------------------+--------------------+-------+-----+---------------+-----------+------------+------------------+------------------+--------------------+----------------+\n",
      "|  1070968|Ultimate Investme...|https://www.udemy...|   True|  200|           2147|         23|          51|        All Levels|               1.5|2017-01-18T20:58:58Z|Business Finance|\n",
      "|  1113822|Complete GST Cour...|https://www.udemy...|   True|   75|           2792|        923|         274|        All Levels|              39.0|2017-03-09T16:34:20Z|Business Finance|\n",
      "|  1006314|Financial Modelin...|https://www.udemy...|   True|   45|           2174|         74|          51|Intermediate Level|               2.5|2016-12-19T19:26:30Z|Business Finance|\n",
      "|  1210588|Beginner to Pro -...|https://www.udemy...|   True|   95|           2451|         11|          36|        All Levels|               3.0|2017-05-30T20:07:24Z|Business Finance|\n",
      "|  1011058|How To Maximize Y...|https://www.udemy...|   True|  200|           1276|         45|          26|Intermediate Level|               2.0|2016-12-13T14:57:18Z|Business Finance|\n",
      "|   192870|Trading Penny Sto...|https://www.udemy...|   True|  150|           9221|        138|          25|        All Levels|               3.0|2014-05-02T15:13:30Z|Business Finance|\n",
      "|   739964|Investing And Tra...|https://www.udemy...|   True|   65|           1540|        178|          26|    Beginner Level|               1.0|2016-02-21T18:23:12Z|Business Finance|\n",
      "|   403100|Trading Stock Cha...|https://www.udemy...|   True|   95|           2917|        148|          23|        All Levels|               2.5|2015-01-30T22:13:03Z|Business Finance|\n",
      "|   476268|Options Trading 3...|https://www.udemy...|   True|  195|           5172|         34|          38|      Expert Level|               2.5|2015-05-28T00:14:03Z|Business Finance|\n",
      "|  1167710|The Only Investme...|https://www.udemy...|   True|  200|            827|         14|          15|        All Levels|               1.0|2017-04-18T18:13:32Z|Business Finance|\n",
      "|   592338|Forex Trading Sec...|https://www.udemy...|   True|  200|           4284|         93|          76|        All Levels|               5.0|2015-09-11T16:47:02Z|Business Finance|\n",
      "|   975046|Trading Options W...|https://www.udemy...|   True|  200|           1380|         42|          17|        All Levels|               1.0|2016-10-18T22:52:31Z|Business Finance|\n",
      "|   742602|Financial Managem...|https://www.udemy...|   True|   30|           3607|         21|          19|        All Levels|               1.5|2016-02-03T18:04:01Z|Business Finance|\n",
      "|   794151|Forex Trading Cou...|https://www.udemy...|   True|  195|           4061|         52|          16|        All Levels|               2.0|2016-03-16T15:40:19Z|Business Finance|\n",
      "|  1196544|Python Algo Tradi...|https://www.udemy...|   True|  200|            294|         19|          42|        All Levels|               7.0|2017-04-28T16:41:44Z|Business Finance|\n",
      "|   504036|Short Selling: Le...|https://www.udemy...|   True|   75|           2276|        106|          19|Intermediate Level|               1.5|2015-06-22T21:18:35Z|Business Finance|\n",
      "|   719698|Basic Technical A...|https://www.udemy...|   True|   20|           4919|         79|          16|    Beginner Level|               1.5|2016-01-08T17:21:26Z|Business Finance|\n",
      "|   564966|The Complete Char...|https://www.udemy...|   True|  200|           2666|        115|          52|        All Levels|               4.0|2015-08-10T21:07:35Z|Business Finance|\n",
      "|   606928|7 Deadly Mistakes...|https://www.udemy...|   True|   50|           5354|         24|          23|        All Levels|               1.5|2015-09-21T18:10:34Z|Business Finance|\n",
      "|    58977|Financial Stateme...|https://www.udemy...|   True|   95|           8095|        249|          12|    Beginner Level|0.5833333333333334|2013-06-09T00:21:26Z|Business Finance|\n",
      "+---------+--------------------+--------------------+-------+-----+---------------+-----------+------------+------------------+------------------+--------------------+----------------+\n",
      "only showing top 20 rows\n",
      "\n"
     ]
    }
   ],
   "source": [
    "data.show()"
   ]
  },
  {
   "cell_type": "code",
   "execution_count": 4,
   "metadata": {},
   "outputs": [
    {
     "name": "stdout",
     "output_type": "stream",
     "text": [
      "root\n",
      " |-- course_id: string (nullable = true)\n",
      " |-- course_title: string (nullable = true)\n",
      " |-- url: string (nullable = true)\n",
      " |-- is_paid: string (nullable = true)\n",
      " |-- price: string (nullable = true)\n",
      " |-- num_subscribers: string (nullable = true)\n",
      " |-- num_reviews: string (nullable = true)\n",
      " |-- num_lectures: string (nullable = true)\n",
      " |-- level: string (nullable = true)\n",
      " |-- content_duration: string (nullable = true)\n",
      " |-- published_timestamp: string (nullable = true)\n",
      " |-- subject: string (nullable = true)\n",
      "\n"
     ]
    }
   ],
   "source": [
    "# Menampilkan schema dfFrame\n",
    "data.printSchema()"
   ]
  },
  {
   "cell_type": "code",
   "execution_count": null,
   "metadata": {},
   "outputs": [
    {
     "name": "stdout",
     "output_type": "stream",
     "text": [
      "+---------+--------------------+--------------------+-------+-----+---------------+-----------+------------+------------------+----------------+--------------------+----------------+--------------------+\n",
      "|course_id|        course_title|                 url|is_paid|price|num_subscribers|num_reviews|num_lectures|             level|content_duration| published_timestamp|         subject|   features_unscaled|\n",
      "+---------+--------------------+--------------------+-------+-----+---------------+-----------+------------+------------------+----------------+--------------------+----------------+--------------------+\n",
      "|  1070968|Ultimate Investme...|https://www.udemy...|   True|  200|         2147.0|       23.0|        51.0|        All Levels|             1.5|2017-01-18T20:58:58Z|Business Finance|[2147.0,23.0,51.0...|\n",
      "|  1113822|Complete GST Cour...|https://www.udemy...|   True|   75|         2792.0|      923.0|       274.0|        All Levels|            39.0|2017-03-09T16:34:20Z|Business Finance|[2792.0,923.0,274...|\n",
      "|  1006314|Financial Modelin...|https://www.udemy...|   True|   45|         2174.0|       74.0|        51.0|Intermediate Level|             2.5|2016-12-19T19:26:30Z|Business Finance|[2174.0,74.0,51.0...|\n",
      "|  1210588|Beginner to Pro -...|https://www.udemy...|   True|   95|         2451.0|       11.0|        36.0|        All Levels|             3.0|2017-05-30T20:07:24Z|Business Finance|[2451.0,11.0,36.0...|\n",
      "|  1011058|How To Maximize Y...|https://www.udemy...|   True|  200|         1276.0|       45.0|        26.0|Intermediate Level|             2.0|2016-12-13T14:57:18Z|Business Finance|[1276.0,45.0,26.0...|\n",
      "|   192870|Trading Penny Sto...|https://www.udemy...|   True|  150|         9221.0|      138.0|        25.0|        All Levels|             3.0|2014-05-02T15:13:30Z|Business Finance|[9221.0,138.0,25....|\n",
      "|   739964|Investing And Tra...|https://www.udemy...|   True|   65|         1540.0|      178.0|        26.0|    Beginner Level|             1.0|2016-02-21T18:23:12Z|Business Finance|[1540.0,178.0,26....|\n",
      "|   403100|Trading Stock Cha...|https://www.udemy...|   True|   95|         2917.0|      148.0|        23.0|        All Levels|             2.5|2015-01-30T22:13:03Z|Business Finance|[2917.0,148.0,23....|\n",
      "|   476268|Options Trading 3...|https://www.udemy...|   True|  195|         5172.0|       34.0|        38.0|      Expert Level|             2.5|2015-05-28T00:14:03Z|Business Finance|[5172.0,34.0,38.0...|\n",
      "|  1167710|The Only Investme...|https://www.udemy...|   True|  200|          827.0|       14.0|        15.0|        All Levels|             1.0|2017-04-18T18:13:32Z|Business Finance|[827.0,14.0,15.0,...|\n",
      "|   592338|Forex Trading Sec...|https://www.udemy...|   True|  200|         4284.0|       93.0|        76.0|        All Levels|             5.0|2015-09-11T16:47:02Z|Business Finance|[4284.0,93.0,76.0...|\n",
      "|   975046|Trading Options W...|https://www.udemy...|   True|  200|         1380.0|       42.0|        17.0|        All Levels|             1.0|2016-10-18T22:52:31Z|Business Finance|[1380.0,42.0,17.0...|\n",
      "|   742602|Financial Managem...|https://www.udemy...|   True|   30|         3607.0|       21.0|        19.0|        All Levels|             1.5|2016-02-03T18:04:01Z|Business Finance|[3607.0,21.0,19.0...|\n",
      "|   794151|Forex Trading Cou...|https://www.udemy...|   True|  195|         4061.0|       52.0|        16.0|        All Levels|             2.0|2016-03-16T15:40:19Z|Business Finance|[4061.0,52.0,16.0...|\n",
      "|  1196544|Python Algo Tradi...|https://www.udemy...|   True|  200|          294.0|       19.0|        42.0|        All Levels|             7.0|2017-04-28T16:41:44Z|Business Finance|[294.0,19.0,42.0,...|\n",
      "|   504036|Short Selling: Le...|https://www.udemy...|   True|   75|         2276.0|      106.0|        19.0|Intermediate Level|             1.5|2015-06-22T21:18:35Z|Business Finance|[2276.0,106.0,19....|\n",
      "|   719698|Basic Technical A...|https://www.udemy...|   True|   20|         4919.0|       79.0|        16.0|    Beginner Level|             1.5|2016-01-08T17:21:26Z|Business Finance|[4919.0,79.0,16.0...|\n",
      "|   564966|The Complete Char...|https://www.udemy...|   True|  200|         2666.0|      115.0|        52.0|        All Levels|             4.0|2015-08-10T21:07:35Z|Business Finance|[2666.0,115.0,52....|\n",
      "|   606928|7 Deadly Mistakes...|https://www.udemy...|   True|   50|         5354.0|       24.0|        23.0|        All Levels|             1.5|2015-09-21T18:10:34Z|Business Finance|[5354.0,24.0,23.0...|\n",
      "|    58977|Financial Stateme...|https://www.udemy...|   True|   95|         8095.0|      249.0|        12.0|    Beginner Level|       0.5833333|2013-06-09T00:21:26Z|Business Finance|[8095.0,249.0,12....|\n",
      "+---------+--------------------+--------------------+-------+-----+---------------+-----------+------------+------------------+----------------+--------------------+----------------+--------------------+\n",
      "only showing top 20 rows\n",
      "\n"
     ]
    }
   ],
   "source": [
    "data = data.withColumn(\"num_subscribers\", col(\"num_subscribers\").cast(\"float\"))\n",
    "data = data.withColumn(\"num_reviews\", col(\"num_reviews\").cast(\"float\"))\n",
    "data = data.withColumn(\"num_lectures\", col(\"num_lectures\").cast(\"float\"))\n",
    "data = data.withColumn(\"content_duration\", col(\"content_duration\").cast(\"float\"))\n",
    "\n",
    "data = data.dropna()\n",
    "\n",
    "if \"features_unscaled\" in data.columns:\n",
    "    data = data.drop(\"features_unscaled\")\n",
    "if \"features\" in data.columns:\n",
    "    data = data.drop(\"features\")\n",
    "\n",
    "assembler = VectorAssembler(inputCols=[\"num_subscribers\", \"num_reviews\", \"num_lectures\", \"content_duration\"], \n",
    "                            outputCol=\"features_unscaled\")\n",
    "data = assembler.transform(data)\n",
    "\n",
    "data.show()"
   ]
  },
  {
   "cell_type": "code",
   "execution_count": null,
   "metadata": {},
   "outputs": [
    {
     "name": "stdout",
     "output_type": "stream",
     "text": [
      "+--------------------+--------------------+\n",
      "|   features_unscaled|            features|\n",
      "+--------------------+--------------------+\n",
      "|[2147.0,23.0,51.0...|[0.44853612526442...|\n",
      "|[2792.0,923.0,274...|[0.58328498450781...|\n",
      "|[2174.0,74.0,51.0...|[0.45417677518624...|\n",
      "|[2451.0,11.0,36.0...|[0.51204566512487...|\n",
      "|[1276.0,45.0,26.0...|[0.26657293704583...|\n",
      "|[9221.0,138.0,25....|[1.92638640478028...|\n",
      "|[1540.0,178.0,26....|[0.32172595850359...|\n",
      "|[2917.0,148.0,23....|[0.60939910451622...|\n",
      "|[5172.0,34.0,38.0...|[1.08049782946791...|\n",
      "|[827.0,14.0,15.0,...|[0.17277101797563...|\n",
      "|[4284.0,93.0,76.0...|[0.89498312092817...|\n",
      "|[1380.0,42.0,17.0...|[0.28829988489283...|\n",
      "|[3607.0,21.0,19.0...|[0.75354904696263...|\n",
      "|[4061.0,52.0,16.0...|[0.84839553083317...|\n",
      "|[294.0,19.0,42.0,...|[0.06142041025977...|\n",
      "|[2276.0,106.0,19....|[0.47548589711310...|\n",
      "|[4919.0,79.0,16.0...|[1.02764285057089...|\n",
      "|[2666.0,115.0,52....|[0.55696195153933...|\n",
      "|[5354.0,24.0,23.0...|[1.11851998820015...|\n",
      "|[8095.0,249.0,12....|[1.69115041174454...|\n",
      "+--------------------+--------------------+\n",
      "only showing top 20 rows\n",
      "\n"
     ]
    }
   ],
   "source": [
    "scaler = StandardScaler(inputCol=\"features_unscaled\", outputCol=\"features\", withStd=True, withMean=False)\n",
    "scaler_model = scaler.fit(data)\n",
    "data = scaler_model.transform(data)\n",
    "\n",
    "data.select(\"features_unscaled\", \"features\").show()"
   ]
  },
  {
   "cell_type": "code",
   "execution_count": 7,
   "metadata": {},
   "outputs": [
    {
     "data": {
      "text/plain": [
       "[4]"
      ]
     },
     "execution_count": 7,
     "metadata": {},
     "output_type": "execute_result"
    }
   ],
   "source": [
    "data.select(\"features\").rdd.map(lambda row: len(row[\"features\"])).distinct().collect()"
   ]
  },
  {
   "cell_type": "code",
   "execution_count": null,
   "metadata": {},
   "outputs": [
    {
     "data": {
      "image/png": "[encoded data removed]",
      "text/plain": [
       "<Figure size 1000x600 with 1 Axes>"
      ]
     },
     "metadata": {},
     "output_type": "display_data"
    }
   ],
   "source": [
    "wcss = []\n",
    "\n",
    "for k in range(2, 6):\n",
    "    kmeans = KMeans(featuresCol=\"features\", k=k, seed=1)\n",
    "    model = kmeans.fit(data)\n",
    "\n",
    "    wcss.append(model.summary.trainingCost)\n",
    "\n",
    "plt.figure(figsize=(10, 6))\n",
    "plt.plot(range(2, 6), wcss, marker='o')\n",
    "plt.title('Elbow Method for Optimal k')\n",
    "plt.xlabel('Number of clusters (k)')\n",
    "plt.ylabel('WCSS (Within-Cluster Sum of Squares)')\n",
    "plt.show()"
   ]
  },
  {
   "cell_type": "code",
   "execution_count": null,
   "metadata": {},
   "outputs": [
    {
     "name": "stdout",
     "output_type": "stream",
     "text": [
      "k: 2, Silhouette Score: 0.9532254784480592\n",
      "k: 3, Silhouette Score: 0.9454320334690631\n",
      "k: 4, Silhouette Score: 0.7263509678395895\n",
      "k: 5, Silhouette Score: 0.6897018749083451\n",
      "\n",
      "Optimal k berdasarkan Silhouette Score adalah: 2\n",
      "\n",
      "Silhouette Score untuk model dengan k=2: 0.9532254784480592\n",
      "+----------+--------------------+-----------------+------------------+---------------------+\n",
      "|prediction|avg(num_subscribers)| avg(num_reviews)| avg(num_lectures)|avg(content_duration)|\n",
      "+----------+--------------------+-----------------+------------------+---------------------+\n",
      "|         1|   17285.56603773585| 961.566037735849|191.22641509433961|    25.42452830188679|\n",
      "|         0|  1219.4059151307329|39.92327475353622|30.642091727389626|    2.917038148538115|\n",
      "+----------+--------------------+-----------------+------------------+---------------------+\n",
      "\n"
     ]
    }
   ],
   "source": [
    "def find_optimal_k(data, max_k=10):\n",
    "    silhouette_scores = []\n",
    "    \n",
    "    for k in range(2, max_k + 1):\n",
    "        kmeans = KMeans(featuresCol=\"features\", k=k, seed=1, maxIter=100, initSteps=10)\n",
    "        model = kmeans.fit(data)\n",
    "        predictions = model.transform(data)\n",
    "        \n",
    "        evaluator = ClusteringEvaluator(featuresCol=\"features\", metricName=\"silhouette\", distanceMeasure=\"squaredEuclidean\")\n",
    "        silhouette = evaluator.evaluate(predictions)\n",
    "        silhouette_scores.append((k, silhouette))\n",
    "        print(f\"k: {k}, Silhouette Score: {silhouette}\")\n",
    "    \n",
    "    best_k = max(silhouette_scores, key=lambda x: x[1])[0]\n",
    "    print(f\"\\nOptimal k berdasarkan Silhouette Score adalah: {best_k}\")\n",
    "    \n",
    "    return best_k, silhouette_scores\n",
    "\n",
    "best_k, silhouette_scores = find_optimal_k(data, max_k=5)\n",
    "\n",
    "kmeans = KMeans(featuresCol=\"features\", k=best_k, seed=1, maxIter=100, initSteps=10)\n",
    "model = kmeans.fit(data)\n",
    "\n",
    "data = model.transform(data)\n",
    "\n",
    "evaluator = ClusteringEvaluator(featuresCol=\"features\", metricName=\"silhouette\", distanceMeasure=\"squaredEuclidean\")\n",
    "silhouette = evaluator.evaluate(data)\n",
    "print(f\"\\nSilhouette Score untuk model dengan k={best_k}: {silhouette}\")\n",
    "\n",
    "\n",
    "data.groupBy(\"prediction\").avg(\"num_subscribers\", \"num_reviews\", \"num_lectures\", \"content_duration\").show()\n"
   ]
  },
  {
   "cell_type": "code",
   "execution_count": 13,
   "metadata": {},
   "outputs": [
    {
     "name": "stdout",
     "output_type": "stream",
     "text": [
      "Model saved to spark_kmeans_model\n"
     ]
    }
   ],
   "source": [
    "model.save(\"spark_kmeans_model_b\")\n",
    "\n",
    "print(\"Model saved to spark_kmeans_model\")"
   ]
  }
 ],
 "metadata": {
  "kernelspec": {
   "display_name": "Python 3",
   "language": "python",
   "name": "python3"
  },
  "language_info": {
   "codemirror_mode": {
    "name": "ipython",
    "version": 3
   },
   "file_extension": ".py",
   "mimetype": "text/x-python",
   "name": "python",
   "nbconvert_exporter": "python",
   "pygments_lexer": "ipython3",
   "version": "3.11.9"
  }
 },
 "nbformat": 4,
 "nbformat_minor": 2
}
