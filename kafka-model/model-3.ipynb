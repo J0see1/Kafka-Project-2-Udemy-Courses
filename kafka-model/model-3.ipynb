{
 "cells": [
  {
   "cell_type": "code",
   "execution_count": 1,
   "metadata": {},
   "outputs": [
    {
     "name": "stderr",
     "output_type": "stream",
     "text": [
      "your 131072x1 screen size is bogus. expect trouble\n",
      "24/11/12 22:03:53 WARN Utils: Your hostname, LAPTOP-75KMQ53F resolves to a loopback address: 127.0.1.1; using 10.255.255.254 instead (on interface lo)\n",
      "24/11/12 22:03:53 WARN Utils: Set SPARK_LOCAL_IP if you need to bind to another address\n",
      "Setting default log level to \"WARN\".\n",
      "To adjust logging level use sc.setLogLevel(newLevel). For SparkR, use setLogLevel(newLevel).\n",
      "24/11/12 22:03:53 WARN NativeCodeLoader: Unable to load native-hadoop library for your platform... using builtin-java classes where applicable\n",
      "24/11/12 22:03:54 WARN Utils: Service 'SparkUI' could not bind on port 4040. Attempting port 4041.\n",
      "24/11/12 22:03:54 WARN Utils: Service 'SparkUI' could not bind on port 4041. Attempting port 4042.\n"
     ]
    }
   ],
   "source": [
    "import numpy as np\n",
    "import matplotlib.pyplot as plt\n",
    "\n",
    "from pyspark.sql import SparkSession\n",
    "from pyspark.ml.clustering import KMeans\n",
    "from pyspark.sql.types import StructType, StructField, IntegerType, StringType\n",
    "from pyspark.ml.evaluation import ClusteringEvaluator\n",
    "from pyspark.sql.functions import col, isnan, when, count, sum\n",
    "from pyspark.ml.feature import VectorAssembler, StandardScaler, StringIndexer\n",
    "\n",
    "spark = SparkSession.builder.appName(\"KMeansClustering\").config(\"spark.hadoop.hadoop.home.dir\", \"C:/Hadoop\").getOrCreate()"
   ]
  },
  {
   "cell_type": "code",
   "execution_count": 2,
   "metadata": {},
   "outputs": [],
   "source": [
    "dataset_path = '../dataset/udemy_courses_dataset.csv'\n",
    "\n",
    "data = spark.read.csv(dataset_path, header=True)"
   ]
  },
  {
   "cell_type": "code",
   "execution_count": 3,
   "metadata": {},
   "outputs": [
    {
     "name": "stdout",
     "output_type": "stream",
     "text": [
      "+---------+--------------------+--------------------+-------+-----+---------------+-----------+------------+------------------+------------------+--------------------+----------------+\n",
      "|course_id|        course_title|                 url|is_paid|price|num_subscribers|num_reviews|num_lectures|             level|  content_duration| published_timestamp|         subject|\n",
      "+---------+--------------------+--------------------+-------+-----+---------------+-----------+------------+------------------+------------------+--------------------+----------------+\n",
      "|  1070968|Ultimate Investme...|https://www.udemy...|   True|  200|           2147|         23|          51|        All Levels|               1.5|2017-01-18T20:58:58Z|Business Finance|\n",
      "|  1113822|Complete GST Cour...|https://www.udemy...|   True|   75|           2792|        923|         274|        All Levels|              39.0|2017-03-09T16:34:20Z|Business Finance|\n",
      "|  1006314|Financial Modelin...|https://www.udemy...|   True|   45|           2174|         74|          51|Intermediate Level|               2.5|2016-12-19T19:26:30Z|Business Finance|\n",
      "|  1210588|Beginner to Pro -...|https://www.udemy...|   True|   95|           2451|         11|          36|        All Levels|               3.0|2017-05-30T20:07:24Z|Business Finance|\n",
      "|  1011058|How To Maximize Y...|https://www.udemy...|   True|  200|           1276|         45|          26|Intermediate Level|               2.0|2016-12-13T14:57:18Z|Business Finance|\n",
      "|   192870|Trading Penny Sto...|https://www.udemy...|   True|  150|           9221|        138|          25|        All Levels|               3.0|2014-05-02T15:13:30Z|Business Finance|\n",
      "|   739964|Investing And Tra...|https://www.udemy...|   True|   65|           1540|        178|          26|    Beginner Level|               1.0|2016-02-21T18:23:12Z|Business Finance|\n",
      "|   403100|Trading Stock Cha...|https://www.udemy...|   True|   95|           2917|        148|          23|        All Levels|               2.5|2015-01-30T22:13:03Z|Business Finance|\n",
      "|   476268|Options Trading 3...|https://www.udemy...|   True|  195|           5172|         34|          38|      Expert Level|               2.5|2015-05-28T00:14:03Z|Business Finance|\n",
      "|  1167710|The Only Investme...|https://www.udemy...|   True|  200|            827|         14|          15|        All Levels|               1.0|2017-04-18T18:13:32Z|Business Finance|\n",
      "|   592338|Forex Trading Sec...|https://www.udemy...|   True|  200|           4284|         93|          76|        All Levels|               5.0|2015-09-11T16:47:02Z|Business Finance|\n",
      "|   975046|Trading Options W...|https://www.udemy...|   True|  200|           1380|         42|          17|        All Levels|               1.0|2016-10-18T22:52:31Z|Business Finance|\n",
      "|   742602|Financial Managem...|https://www.udemy...|   True|   30|           3607|         21|          19|        All Levels|               1.5|2016-02-03T18:04:01Z|Business Finance|\n",
      "|   794151|Forex Trading Cou...|https://www.udemy...|   True|  195|           4061|         52|          16|        All Levels|               2.0|2016-03-16T15:40:19Z|Business Finance|\n",
      "|  1196544|Python Algo Tradi...|https://www.udemy...|   True|  200|            294|         19|          42|        All Levels|               7.0|2017-04-28T16:41:44Z|Business Finance|\n",
      "|   504036|Short Selling: Le...|https://www.udemy...|   True|   75|           2276|        106|          19|Intermediate Level|               1.5|2015-06-22T21:18:35Z|Business Finance|\n",
      "|   719698|Basic Technical A...|https://www.udemy...|   True|   20|           4919|         79|          16|    Beginner Level|               1.5|2016-01-08T17:21:26Z|Business Finance|\n",
      "|   564966|The Complete Char...|https://www.udemy...|   True|  200|           2666|        115|          52|        All Levels|               4.0|2015-08-10T21:07:35Z|Business Finance|\n",
      "|   606928|7 Deadly Mistakes...|https://www.udemy...|   True|   50|           5354|         24|          23|        All Levels|               1.5|2015-09-21T18:10:34Z|Business Finance|\n",
      "|    58977|Financial Stateme...|https://www.udemy...|   True|   95|           8095|        249|          12|    Beginner Level|0.5833333333333334|2013-06-09T00:21:26Z|Business Finance|\n",
      "+---------+--------------------+--------------------+-------+-----+---------------+-----------+------------+------------------+------------------+--------------------+----------------+\n",
      "only showing top 20 rows\n",
      "\n"
     ]
    }
   ],
   "source": [
    "data.show()"
   ]
  },
  {
   "cell_type": "code",
   "execution_count": 4,
   "metadata": {},
   "outputs": [
    {
     "name": "stdout",
     "output_type": "stream",
     "text": [
      "+---------+------------+---+-------+-----+---------------+-----------+------------+-----+----------------+-------------------+-------+\n",
      "|course_id|course_title|url|is_paid|price|num_subscribers|num_reviews|num_lectures|level|content_duration|published_timestamp|subject|\n",
      "+---------+------------+---+-------+-----+---------------+-----------+------------+-----+----------------+-------------------+-------+\n",
      "|        0|           0|  0|      0|    0|              0|          0|           0|    0|               0|                  0|      5|\n",
      "+---------+------------+---+-------+-----+---------------+-----------+------------+-----+----------------+-------------------+-------+\n",
      "\n"
     ]
    }
   ],
   "source": [
    "data.select([sum(col(c).isNull().cast(\"int\")).alias(c) for c in data.columns]).show()"
   ]
  },
  {
   "cell_type": "code",
   "execution_count": 5,
   "metadata": {},
   "outputs": [
    {
     "name": "stdout",
     "output_type": "stream",
     "text": [
      "root\n",
      " |-- course_id: string (nullable = true)\n",
      " |-- course_title: string (nullable = true)\n",
      " |-- url: string (nullable = true)\n",
      " |-- is_paid: string (nullable = true)\n",
      " |-- price: string (nullable = true)\n",
      " |-- num_subscribers: string (nullable = true)\n",
      " |-- num_reviews: string (nullable = true)\n",
      " |-- num_lectures: string (nullable = true)\n",
      " |-- level: string (nullable = true)\n",
      " |-- content_duration: string (nullable = true)\n",
      " |-- published_timestamp: string (nullable = true)\n",
      " |-- subject: string (nullable = true)\n",
      "\n"
     ]
    }
   ],
   "source": [
    "# Menampilkan schema dfFrame\n",
    "data.printSchema()"
   ]
  },
  {
   "cell_type": "code",
   "execution_count": 6,
   "metadata": {},
   "outputs": [
    {
     "name": "stdout",
     "output_type": "stream",
     "text": [
      "+---------+--------------------+--------------------+-------+-----+---------------+-----------+------------+------------------+----------------+--------------------+----------------+--------------------+\n",
      "|course_id|        course_title|                 url|is_paid|price|num_subscribers|num_reviews|num_lectures|             level|content_duration| published_timestamp|         subject|   features_unscaled|\n",
      "+---------+--------------------+--------------------+-------+-----+---------------+-----------+------------+------------------+----------------+--------------------+----------------+--------------------+\n",
      "|  1070968|Ultimate Investme...|https://www.udemy...|   True|  200|         2147.0|       23.0|        51.0|        All Levels|             1.5|2017-01-18T20:58:58Z|Business Finance|[2147.0,23.0,51.0...|\n",
      "|  1113822|Complete GST Cour...|https://www.udemy...|   True|   75|         2792.0|      923.0|       274.0|        All Levels|            39.0|2017-03-09T16:34:20Z|Business Finance|[2792.0,923.0,274...|\n",
      "|  1006314|Financial Modelin...|https://www.udemy...|   True|   45|         2174.0|       74.0|        51.0|Intermediate Level|             2.5|2016-12-19T19:26:30Z|Business Finance|[2174.0,74.0,51.0...|\n",
      "|  1210588|Beginner to Pro -...|https://www.udemy...|   True|   95|         2451.0|       11.0|        36.0|        All Levels|             3.0|2017-05-30T20:07:24Z|Business Finance|[2451.0,11.0,36.0...|\n",
      "|  1011058|How To Maximize Y...|https://www.udemy...|   True|  200|         1276.0|       45.0|        26.0|Intermediate Level|             2.0|2016-12-13T14:57:18Z|Business Finance|[1276.0,45.0,26.0...|\n",
      "|   192870|Trading Penny Sto...|https://www.udemy...|   True|  150|         9221.0|      138.0|        25.0|        All Levels|             3.0|2014-05-02T15:13:30Z|Business Finance|[9221.0,138.0,25....|\n",
      "|   739964|Investing And Tra...|https://www.udemy...|   True|   65|         1540.0|      178.0|        26.0|    Beginner Level|             1.0|2016-02-21T18:23:12Z|Business Finance|[1540.0,178.0,26....|\n",
      "|   403100|Trading Stock Cha...|https://www.udemy...|   True|   95|         2917.0|      148.0|        23.0|        All Levels|             2.5|2015-01-30T22:13:03Z|Business Finance|[2917.0,148.0,23....|\n",
      "|   476268|Options Trading 3...|https://www.udemy...|   True|  195|         5172.0|       34.0|        38.0|      Expert Level|             2.5|2015-05-28T00:14:03Z|Business Finance|[5172.0,34.0,38.0...|\n",
      "|  1167710|The Only Investme...|https://www.udemy...|   True|  200|          827.0|       14.0|        15.0|        All Levels|             1.0|2017-04-18T18:13:32Z|Business Finance|[827.0,14.0,15.0,...|\n",
      "|   592338|Forex Trading Sec...|https://www.udemy...|   True|  200|         4284.0|       93.0|        76.0|        All Levels|             5.0|2015-09-11T16:47:02Z|Business Finance|[4284.0,93.0,76.0...|\n",
      "|   975046|Trading Options W...|https://www.udemy...|   True|  200|         1380.0|       42.0|        17.0|        All Levels|             1.0|2016-10-18T22:52:31Z|Business Finance|[1380.0,42.0,17.0...|\n",
      "|   742602|Financial Managem...|https://www.udemy...|   True|   30|         3607.0|       21.0|        19.0|        All Levels|             1.5|2016-02-03T18:04:01Z|Business Finance|[3607.0,21.0,19.0...|\n",
      "|   794151|Forex Trading Cou...|https://www.udemy...|   True|  195|         4061.0|       52.0|        16.0|        All Levels|             2.0|2016-03-16T15:40:19Z|Business Finance|[4061.0,52.0,16.0...|\n",
      "|  1196544|Python Algo Tradi...|https://www.udemy...|   True|  200|          294.0|       19.0|        42.0|        All Levels|             7.0|2017-04-28T16:41:44Z|Business Finance|[294.0,19.0,42.0,...|\n",
      "|   504036|Short Selling: Le...|https://www.udemy...|   True|   75|         2276.0|      106.0|        19.0|Intermediate Level|             1.5|2015-06-22T21:18:35Z|Business Finance|[2276.0,106.0,19....|\n",
      "|   719698|Basic Technical A...|https://www.udemy...|   True|   20|         4919.0|       79.0|        16.0|    Beginner Level|             1.5|2016-01-08T17:21:26Z|Business Finance|[4919.0,79.0,16.0...|\n",
      "|   564966|The Complete Char...|https://www.udemy...|   True|  200|         2666.0|      115.0|        52.0|        All Levels|             4.0|2015-08-10T21:07:35Z|Business Finance|[2666.0,115.0,52....|\n",
      "|   606928|7 Deadly Mistakes...|https://www.udemy...|   True|   50|         5354.0|       24.0|        23.0|        All Levels|             1.5|2015-09-21T18:10:34Z|Business Finance|[5354.0,24.0,23.0...|\n",
      "|    58977|Financial Stateme...|https://www.udemy...|   True|   95|         8095.0|      249.0|        12.0|    Beginner Level|       0.5833333|2013-06-09T00:21:26Z|Business Finance|[8095.0,249.0,12....|\n",
      "+---------+--------------------+--------------------+-------+-----+---------------+-----------+------------+------------------+----------------+--------------------+----------------+--------------------+\n",
      "only showing top 20 rows\n",
      "\n"
     ]
    }
   ],
   "source": [
    "from pyspark.ml.feature import VectorAssembler\n",
    "from pyspark.sql.functions import col\n",
    "\n",
    "# Cast columns to float to ensure they are numeric\n",
    "data = data.withColumn(\"num_subscribers\", col(\"num_subscribers\").cast(\"float\"))\n",
    "data = data.withColumn(\"num_reviews\", col(\"num_reviews\").cast(\"float\"))\n",
    "data = data.withColumn(\"num_lectures\", col(\"num_lectures\").cast(\"float\"))\n",
    "data = data.withColumn(\"content_duration\", col(\"content_duration\").cast(\"float\"))\n",
    "\n",
    "# Drop rows with NaN values in the specific columns used by the model\n",
    "data = data.dropna()\n",
    "\n",
    "# Ensure previous feature columns do not exist to prevent conflicts\n",
    "if \"features_unscaled\" in data.columns:\n",
    "    data = data.drop(\"features_unscaled\")\n",
    "if \"features\" in data.columns:\n",
    "    data = data.drop(\"features\")\n",
    "\n",
    "# Assemble features with columns specific to API 2\n",
    "assembler = VectorAssembler(inputCols=[\"num_subscribers\", \"num_reviews\", \"num_lectures\", \"content_duration\"], \n",
    "                            outputCol=\"features_unscaled\")\n",
    "data = assembler.transform(data)\n",
    "\n",
    "# Display the transformed data for debugging\n",
    "data.show()\n"
   ]
  },
  {
   "cell_type": "code",
   "execution_count": 7,
   "metadata": {},
   "outputs": [
    {
     "name": "stdout",
     "output_type": "stream",
     "text": [
      "+---------+------------+---+-------+-----+---------------+-----------+------------+-----+----------------+-------------------+-------+-----------------+\n",
      "|course_id|course_title|url|is_paid|price|num_subscribers|num_reviews|num_lectures|level|content_duration|published_timestamp|subject|features_unscaled|\n",
      "+---------+------------+---+-------+-----+---------------+-----------+------------+-----+----------------+-------------------+-------+-----------------+\n",
      "|        0|           0|  0|      0|    0|              0|          0|           0|    0|               0|                  0|      0|                0|\n",
      "+---------+------------+---+-------+-----+---------------+-----------+------------+-----+----------------+-------------------+-------+-----------------+\n",
      "\n"
     ]
    }
   ],
   "source": [
    "data.select([sum(col(c).isNull().cast(\"int\")).alias(c) for c in data.columns]).show()"
   ]
  },
  {
   "cell_type": "code",
   "execution_count": 8,
   "metadata": {},
   "outputs": [
    {
     "name": "stdout",
     "output_type": "stream",
     "text": [
      "+--------------------+--------------------+\n",
      "|   features_unscaled|            features|\n",
      "+--------------------+--------------------+\n",
      "|[2147.0,23.0,51.0...|[0.22590210091500...|\n",
      "|[2792.0,923.0,274...|[0.29376742699333...|\n",
      "|[2174.0,74.0,51.0...|[0.22874297502991...|\n",
      "|[2451.0,11.0,36.0...|[0.25788823909766...|\n",
      "|[1276.0,45.0,26.0...|[0.13425760631930...|\n",
      "|[9221.0,138.0,25....|[0.97021111902062...|\n",
      "|[1540.0,178.0,26....|[0.16203504210950...|\n",
      "|[2917.0,148.0,23....|[0.30691962196975...|\n",
      "|[5172.0,34.0,38.0...|[0.54418521934439...|\n",
      "|[827.0,14.0,15.0,...|[0.08701492196400...|\n",
      "|[4284.0,93.0,76.0...|[0.45075202623189...|\n",
      "|[1380.0,42.0,17.0...|[0.14520023253968...|\n",
      "|[3607.0,21.0,19.0...|[0.37951973823960...|\n",
      "|[4061.0,52.0,16.0...|[0.42728851039396...|\n",
      "|[294.0,19.0,42.0,...|[0.03093396258454...|\n",
      "|[2276.0,106.0,19....|[0.23947516613067...|\n",
      "|[4919.0,79.0,16.0...|[0.51756517671211...|\n",
      "|[2666.0,115.0,52....|[0.28051001445710...|\n",
      "|[5354.0,24.0,23.0...|[0.56333481523006...|\n",
      "|[8095.0,249.0,12....|[0.85173614667302...|\n",
      "+--------------------+--------------------+\n",
      "only showing top 20 rows\n",
      "\n"
     ]
    }
   ],
   "source": [
    "scaler = StandardScaler(inputCol=\"features_unscaled\", outputCol=\"features\", withStd=True, withMean=False)\n",
    "scaler_model = scaler.fit(data)\n",
    "data = scaler_model.transform(data)\n",
    "\n",
    "data.select(\"features_unscaled\", \"features\").show()"
   ]
  },
  {
   "cell_type": "code",
   "execution_count": 9,
   "metadata": {},
   "outputs": [
    {
     "data": {
      "image/png": "[encoded data removed]",
      "text/plain": [
       "<Figure size 720x432 with 1 Axes>"
      ]
     },
     "metadata": {
      "needs_background": "light"
     },
     "output_type": "display_data"
    }
   ],
   "source": [
    "wcss = []\n",
    "\n",
    "for k in range(2, 6):\n",
    "    kmeans = KMeans(featuresCol=\"features\", k=k, seed=1)\n",
    "    model = kmeans.fit(data)\n",
    "\n",
    "    wcss.append(model.summary.trainingCost)\n",
    "\n",
    "plt.figure(figsize=(10, 6))\n",
    "plt.plot(range(2, 6), wcss, marker='o')\n",
    "plt.title('Elbow Method for Optimal k')\n",
    "plt.xlabel('Number of clusters (k)')\n",
    "plt.ylabel('WCSS (Within-Cluster Sum of Squares)')\n",
    "plt.show()"
   ]
  },
  {
   "cell_type": "code",
   "execution_count": 10,
   "metadata": {},
   "outputs": [
    {
     "name": "stdout",
     "output_type": "stream",
     "text": [
      "k: 2, Silhouette Score: 0.9311453206411286\n",
      "k: 3, Silhouette Score: 0.9101666035574724\n",
      "k: 4, Silhouette Score: 0.7536571753482858\n",
      "k: 5, Silhouette Score: 0.7697149449827047\n",
      "\n",
      "Optimal k berdasarkan Silhouette Score adalah: 2\n",
      "\n",
      "Silhouette Score untuk model dengan k=2: 0.9311453206411286\n",
      "+----------+--------------------+-----------------+------------------+---------------------+\n",
      "|prediction|avg(num_subscribers)| avg(num_reviews)| avg(num_lectures)|avg(content_duration)|\n",
      "+----------+--------------------+-----------------+------------------+---------------------+\n",
      "|         1|  25586.545454545456|2205.560606060606|209.96212121212122|   24.893939393939394|\n",
      "|         0|  2363.7044557247605|79.97377326565145| 33.78595600676819|    3.320257567381933|\n",
      "+----------+--------------------+-----------------+------------------+---------------------+\n",
      "\n"
     ]
    }
   ],
   "source": [
    "from pyspark.ml.evaluation import ClusteringEvaluator\n",
    "from pyspark.ml.clustering import KMeans\n",
    "\n",
    "# Define the function to find optimal k using silhouette score\n",
    "def find_optimal_k(data, max_k=10):\n",
    "    silhouette_scores = []\n",
    "    \n",
    "    for k in range(2, max_k + 1):\n",
    "        kmeans = KMeans(featuresCol=\"features\", k=k, seed=1, maxIter=100, initSteps=10)\n",
    "        model = kmeans.fit(data)\n",
    "        predictions = model.transform(data)\n",
    "        \n",
    "        evaluator = ClusteringEvaluator(featuresCol=\"features\", metricName=\"silhouette\", distanceMeasure=\"squaredEuclidean\")\n",
    "        silhouette = evaluator.evaluate(predictions)\n",
    "        silhouette_scores.append((k, silhouette))\n",
    "        print(f\"k: {k}, Silhouette Score: {silhouette}\")\n",
    "    \n",
    "    best_k = max(silhouette_scores, key=lambda x: x[1])[0]\n",
    "    print(f\"\\nOptimal k berdasarkan Silhouette Score adalah: {best_k}\")\n",
    "    \n",
    "    return best_k, silhouette_scores\n",
    "\n",
    "# Determine optimal k\n",
    "best_k, silhouette_scores = find_optimal_k(data, max_k=5)\n",
    "\n",
    "# Train the final model using the best k\n",
    "kmeans = KMeans(featuresCol=\"features\", k=best_k, seed=1, maxIter=100, initSteps=10)\n",
    "model = kmeans.fit(data)\n",
    "data = model.transform(data)\n",
    "\n",
    "# Evaluate the final model using silhouette score\n",
    "evaluator = ClusteringEvaluator(featuresCol=\"features\", metricName=\"silhouette\", distanceMeasure=\"squaredEuclidean\")\n",
    "silhouette = evaluator.evaluate(data)\n",
    "print(f\"\\nSilhouette Score untuk model dengan k={best_k}: {silhouette}\")\n",
    "\n",
    "# Group by prediction and calculate averages of available numeric columns\n",
    "data.groupBy(\"prediction\").avg(\"num_subscribers\", \"num_reviews\", \"num_lectures\", \"content_duration\").show()\n"
   ]
  },
  {
   "cell_type": "code",
   "execution_count": 11,
   "metadata": {},
   "outputs": [
    {
     "name": "stdout",
     "output_type": "stream",
     "text": [
      "Model saved to spark_kmeans_model\n"
     ]
    }
   ],
   "source": [
    "model.save(\"spark_kmeans_model_c\")\n",
    "\n",
    "print(\"Model saved to spark_kmeans_model\")"
   ]
  }
 ],
 "metadata": {
  "kernelspec": {
   "display_name": "Python 3",
   "language": "python",
   "name": "python3"
  },
  "language_info": {
   "codemirror_mode": {
    "name": "ipython",
    "version": 3
   },
   "file_extension": ".py",
   "mimetype": "text/x-python",
   "name": "python",
   "nbconvert_exporter": "python",
   "pygments_lexer": "ipython3",
   "version": "3.10.12"
  }
 },
 "nbformat": 4,
 "nbformat_minor": 2
}
